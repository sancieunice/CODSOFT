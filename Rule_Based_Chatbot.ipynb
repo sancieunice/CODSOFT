{
  "nbformat": 4,
  "nbformat_minor": 0,
  "metadata": {
    "colab": {
      "provenance": []
    },
    "kernelspec": {
      "name": "python3",
      "display_name": "Python 3"
    },
    "language_info": {
      "name": "python"
    }
  },
  "cells": [
    {
      "cell_type": "code",
      "execution_count": null,
      "metadata": {
        "colab": {
          "base_uri": "https://localhost:8080/"
        },
        "id": "CkuwSWH1yji7",
        "outputId": "e02f78e0-8861-40b9-aac0-43a476d87fc3"
      },
      "outputs": [
        {
          "output_type": "stream",
          "name": "stdout",
          "text": [
            "Chatbot: Hi! I'm a simple chatbot,I'm here to assist you!\n",
            "Me: what is the weather today?\n",
            "Chatbot: I'm not connected to live weather services, but you can check reliable apps like Weather.com.\n",
            "Me: what is python programming?\n",
            "Chatbot: I'm sorry,I didn't understand that.Can you please rephrase your sentence?\n",
            "Me: What is Python programming?\n",
            "Chatbot: I'm sorry,I didn't understand that.Can you please rephrase your sentence?\n",
            "Me: What is Python programming\n",
            "Chatbot: I'm sorry,I didn't understand that.Can you please rephrase your sentence?\n",
            "Me: can you recommend a book\n",
            "Chatbot: Sure! If you're into self-development, try 'Atomic Habits' by James Clear. For fiction, 'The Alchemist' by Paulo Coelho is a great read.\n",
            "Me: thank you\n",
            "Chatbot: You're welcome! Let me know if you need further assistance.\n",
            "Me: bye\n",
            "Chatbot: Goodbye! Have a great day!\n"
          ]
        }
      ],
      "source": [
        "data={\n",
        "    \"what is your name\": \"I'm QueryBot, your personal assistant for answering questions.\",\n",
        "    \"how can you help me\": \"I can assist you with general queries, provide information, and make your tasks easier.\",\n",
        "    \"what is the weather today\": \"I'm not connected to live weather services, but you can check reliable apps like Weather.com.\",\n",
        "    \"what time is it\": \"I can't access the current time, but you can check your device's clock.\",\n",
        "    \"how do I reset my password\": \"To reset your password, go to the login page and click on 'Forgot Password'. Follow the instructions sent to your email.\",\n",
        "    \"can you help me with my homework\": \"Sure! Let me know the topic, and I'll try my best to provide helpful information.\",\n",
        "    \"what is AI\": \"AI, or Artificial Intelligence, refers to machines programmed to simulate human intelligence and perform tasks such as learning, reasoning, and problem-solving.\",\n",
        "    \"what is the capital of France\": \"The capital of France is Paris.\",\n",
        "    \"how do I improve my productivity\": \"To improve productivity, create a to-do list, minimize distractions, and focus on one task at a time.\",\n",
        "    \"can you recommend a book\": \"Sure! If you're into self-development, try 'Atomic Habits' by James Clear. For fiction, 'The Alchemist' by Paulo Coelho is a great read.\",\n",
        "    \"what is Python programming\": \"Python is a popular programming language known for its simplicity and versatility, widely used in web development, data analysis, and AI.\",\n",
        "    \"how do I contact customer support\": \"Please provide more details about the service or product, and I'll guide you accordingly.\",\n",
        "    \"thank you\": \"You're welcome! Let me know if you need further assistance.\",\n",
        "    \"bye\": \"Goodbye! Take care and have a wonderful day!\",\n",
        "}\n",
        "def get_response(user_input):\n",
        "    for pattern,response in data.items():\n",
        "        if pattern in user_input:\n",
        "            return response\n",
        "    return \"I'm sorry,I didn't understand that.Can you please rephrase your sentence?\"\n",
        "print(\"Chatbot: Hi! I'm a simple chatbot,I'm here to assist you!\")\n",
        "while True:\n",
        "    user_input=input(\"Me: \")\n",
        "    if user_input=='bye':\n",
        "       print(\"Chatbot: Goodbye! Have a great day!\")\n",
        "       break\n",
        "    response=get_response(user_input)\n",
        "    print(\"Chatbot:\",response)\n"
      ]
    }
  ]
}